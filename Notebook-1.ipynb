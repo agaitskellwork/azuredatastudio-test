{
    "metadata": {
        "kernelspec": {
            "name": "python3",
            "display_name": "Python 3 (ipykernel)",
            "language": "python"
        },
        "language_info": {
            "name": "python",
            "version": "3.8.10",
            "mimetype": "text/x-python",
            "codemirror_mode": {
                "name": "ipython",
                "version": 3
            },
            "pygments_lexer": "ipython3",
            "nbconvert_exporter": "python",
            "file_extension": ".py"
        }
    },
    "nbformat_minor": 2,
    "nbformat": 4,
    "cells": [
        {
            "cell_type": "code",
            "source": [
                "a = 1"
            ],
            "metadata": {
                "azdata_cell_guid": "10337717-50d9-451a-a6d5-1e6c04a69c24"
            },
            "outputs": [],
            "execution_count": 2
        },
        {
            "cell_type": "code",
            "source": [
                "print(a)"
            ],
            "metadata": {
                "azdata_cell_guid": "afe53e78-0b99-4fb4-a43d-3d7b3f003578"
            },
            "outputs": [
                {
                    "name": "stdout",
                    "text": "1\n",
                    "output_type": "stream"
                }
            ],
            "execution_count": 3
        },
        {
            "cell_type": "code",
            "source": [],
            "metadata": {
                "azdata_cell_guid": "65b1e485-75c5-42f7-b18d-2620d68221e5"
            },
            "outputs": [],
            "execution_count": null
        }
    ]
}